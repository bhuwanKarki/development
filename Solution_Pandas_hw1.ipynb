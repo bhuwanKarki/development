{
 "cells": [
  {
   "cell_type": "code",
   "execution_count": 2,
   "metadata": {
    "collapsed": true,
    "pycharm": {
     "is_executing": false
    }
   },
   "outputs": [],
   "source": [
    "import pandas as pd\n",
    "import re"
   ]
  },
  {
   "cell_type": "code",
   "execution_count": 3,
   "outputs": [],
   "source": [
    "column=['ID', 'title', 'year', 'rating', 'votes', 'duration', 'genres']\n",
    "df=pd.read_csv(r\"C:\\Users\\minds\\Desktop\\pandas\\data\\movie_data.txt\",delimiter=\"\\t\",names=column,index_col=\"ID\")\n",
    "\n"
   ],
   "metadata": {
    "collapsed": false,
    "pycharm": {
     "name": "#%%\n",
     "is_executing": false
    }
   }
  },
  {
   "cell_type": "code",
   "execution_count": 4,
   "outputs": [
    {
     "data": {
      "text/plain": "                                     title  year  rating   votes   duration  \\\nID                                                                            \ntt0111161  The Shawshank Redemption (1994)  1994     9.2  619479  142 mins.   \ntt0110912              Pulp Fiction (1994)  1994     9.0  490065  154 mins.   \ntt0137523                Fight Club (1999)  1999     8.8  458173  139 mins.   \ntt0133093                The Matrix (1999)  1999     8.7  448114  136 mins.   \ntt1375666                 Inception (2010)  2010     8.9  385149  148 mins.   \n\n                                     genres  \nID                                           \ntt0111161                       Crime|Drama  \ntt0110912                    Crime|Thriller  \ntt0137523            Drama|Mystery|Thriller  \ntt0133093           Action|Adventure|Sci-Fi  \ntt1375666  Action|Adventure|Sci-Fi|Thriller  ",
      "text/html": "<div>\n<style scoped>\n    .dataframe tbody tr th:only-of-type {\n        vertical-align: middle;\n    }\n\n    .dataframe tbody tr th {\n        vertical-align: top;\n    }\n\n    .dataframe thead th {\n        text-align: right;\n    }\n</style>\n<table border=\"1\" class=\"dataframe\">\n  <thead>\n    <tr style=\"text-align: right;\">\n      <th></th>\n      <th>title</th>\n      <th>year</th>\n      <th>rating</th>\n      <th>votes</th>\n      <th>duration</th>\n      <th>genres</th>\n    </tr>\n    <tr>\n      <th>ID</th>\n      <th></th>\n      <th></th>\n      <th></th>\n      <th></th>\n      <th></th>\n      <th></th>\n    </tr>\n  </thead>\n  <tbody>\n    <tr>\n      <th>tt0111161</th>\n      <td>The Shawshank Redemption (1994)</td>\n      <td>1994</td>\n      <td>9.2</td>\n      <td>619479</td>\n      <td>142 mins.</td>\n      <td>Crime|Drama</td>\n    </tr>\n    <tr>\n      <th>tt0110912</th>\n      <td>Pulp Fiction (1994)</td>\n      <td>1994</td>\n      <td>9.0</td>\n      <td>490065</td>\n      <td>154 mins.</td>\n      <td>Crime|Thriller</td>\n    </tr>\n    <tr>\n      <th>tt0137523</th>\n      <td>Fight Club (1999)</td>\n      <td>1999</td>\n      <td>8.8</td>\n      <td>458173</td>\n      <td>139 mins.</td>\n      <td>Drama|Mystery|Thriller</td>\n    </tr>\n    <tr>\n      <th>tt0133093</th>\n      <td>The Matrix (1999)</td>\n      <td>1999</td>\n      <td>8.7</td>\n      <td>448114</td>\n      <td>136 mins.</td>\n      <td>Action|Adventure|Sci-Fi</td>\n    </tr>\n    <tr>\n      <th>tt1375666</th>\n      <td>Inception (2010)</td>\n      <td>2010</td>\n      <td>8.9</td>\n      <td>385149</td>\n      <td>148 mins.</td>\n      <td>Action|Adventure|Sci-Fi|Thriller</td>\n    </tr>\n  </tbody>\n</table>\n</div>"
     },
     "metadata": {},
     "output_type": "execute_result",
     "execution_count": 4
    }
   ],
   "source": [
    "df.head()\n"
   ],
   "metadata": {
    "collapsed": false,
    "pycharm": {
     "name": "#%%\n",
     "is_executing": false
    }
   }
  },
  {
   "cell_type": "code",
   "execution_count": 5,
   "outputs": [
    {
     "data": {
      "text/plain": "                                         title  year  rating  votes  \\\nID                                                                    \ntt0101356                   Another You (1991)  1991     4.9   1359   \ntt0421090                    Zerophilia (2005)  2005     6.3   1359   \ntt0067227  The Merchant of Four Seasons (1971)  1971     7.6   1359   \ntt0339727                     Stateside (2004)  2004     5.8   1358   \ntt0218581                  Scarlet Diva (2000)  2000     5.2   1358   \ntt0118635                        Aprile (1998)  1998     6.7   1358   \ntt0807721                       Meduzot (2007)  2007     7.0   1357   \ntt0339642                Daltry Calhoun (2005)  2005     5.2   1357   \ntt0060880        The Quiller Memorandum (1966)  1966     6.5   1356   \ntt0152836                          Taal (1999)  1999     6.5   1356   \ntt0279977                The Navigators (2001)  2001     6.9   1356   \n\n            duration                      genres  \nID                                                \ntt0101356   98 mins.                Comedy|Crime  \ntt0421090   90 mins.              Comedy|Romance  \ntt0067227   88 mins.                       Drama  \ntt0339727   97 mins.         Drama|Music|Romance  \ntt0218581   91 mins.                       Drama  \ntt0118635   78 mins.                      Comedy  \ntt0807721   78 mins.                       Drama  \ntt0339642  100 mins.  Comedy|Drama|Music|Romance  \ntt0060880  104 mins.      Drama|Mystery|Thriller  \ntt0152836  179 mins.             Musical|Romance  \ntt0279977   96 mins.                Comedy|Drama  ",
      "text/html": "<div>\n<style scoped>\n    .dataframe tbody tr th:only-of-type {\n        vertical-align: middle;\n    }\n\n    .dataframe tbody tr th {\n        vertical-align: top;\n    }\n\n    .dataframe thead th {\n        text-align: right;\n    }\n</style>\n<table border=\"1\" class=\"dataframe\">\n  <thead>\n    <tr style=\"text-align: right;\">\n      <th></th>\n      <th>title</th>\n      <th>year</th>\n      <th>rating</th>\n      <th>votes</th>\n      <th>duration</th>\n      <th>genres</th>\n    </tr>\n    <tr>\n      <th>ID</th>\n      <th></th>\n      <th></th>\n      <th></th>\n      <th></th>\n      <th></th>\n      <th></th>\n    </tr>\n  </thead>\n  <tbody>\n    <tr>\n      <th>tt0101356</th>\n      <td>Another You (1991)</td>\n      <td>1991</td>\n      <td>4.9</td>\n      <td>1359</td>\n      <td>98 mins.</td>\n      <td>Comedy|Crime</td>\n    </tr>\n    <tr>\n      <th>tt0421090</th>\n      <td>Zerophilia (2005)</td>\n      <td>2005</td>\n      <td>6.3</td>\n      <td>1359</td>\n      <td>90 mins.</td>\n      <td>Comedy|Romance</td>\n    </tr>\n    <tr>\n      <th>tt0067227</th>\n      <td>The Merchant of Four Seasons (1971)</td>\n      <td>1971</td>\n      <td>7.6</td>\n      <td>1359</td>\n      <td>88 mins.</td>\n      <td>Drama</td>\n    </tr>\n    <tr>\n      <th>tt0339727</th>\n      <td>Stateside (2004)</td>\n      <td>2004</td>\n      <td>5.8</td>\n      <td>1358</td>\n      <td>97 mins.</td>\n      <td>Drama|Music|Romance</td>\n    </tr>\n    <tr>\n      <th>tt0218581</th>\n      <td>Scarlet Diva (2000)</td>\n      <td>2000</td>\n      <td>5.2</td>\n      <td>1358</td>\n      <td>91 mins.</td>\n      <td>Drama</td>\n    </tr>\n    <tr>\n      <th>tt0118635</th>\n      <td>Aprile (1998)</td>\n      <td>1998</td>\n      <td>6.7</td>\n      <td>1358</td>\n      <td>78 mins.</td>\n      <td>Comedy</td>\n    </tr>\n    <tr>\n      <th>tt0807721</th>\n      <td>Meduzot (2007)</td>\n      <td>2007</td>\n      <td>7.0</td>\n      <td>1357</td>\n      <td>78 mins.</td>\n      <td>Drama</td>\n    </tr>\n    <tr>\n      <th>tt0339642</th>\n      <td>Daltry Calhoun (2005)</td>\n      <td>2005</td>\n      <td>5.2</td>\n      <td>1357</td>\n      <td>100 mins.</td>\n      <td>Comedy|Drama|Music|Romance</td>\n    </tr>\n    <tr>\n      <th>tt0060880</th>\n      <td>The Quiller Memorandum (1966)</td>\n      <td>1966</td>\n      <td>6.5</td>\n      <td>1356</td>\n      <td>104 mins.</td>\n      <td>Drama|Mystery|Thriller</td>\n    </tr>\n    <tr>\n      <th>tt0152836</th>\n      <td>Taal (1999)</td>\n      <td>1999</td>\n      <td>6.5</td>\n      <td>1356</td>\n      <td>179 mins.</td>\n      <td>Musical|Romance</td>\n    </tr>\n    <tr>\n      <th>tt0279977</th>\n      <td>The Navigators (2001)</td>\n      <td>2001</td>\n      <td>6.9</td>\n      <td>1356</td>\n      <td>96 mins.</td>\n      <td>Comedy|Drama</td>\n    </tr>\n  </tbody>\n</table>\n</div>"
     },
     "metadata": {},
     "output_type": "execute_result",
     "execution_count": 5
    }
   ],
   "source": [
    "\n",
    "df.tail(11)"
   ],
   "metadata": {
    "collapsed": false,
    "pycharm": {
     "name": "#%%\n",
     "is_executing": false
    }
   }
  },
  {
   "cell_type": "code",
   "execution_count": 6,
   "outputs": [
    {
     "name": "stdout",
     "text": [
      "<class 'pandas.core.frame.DataFrame'>\nIndex: 10000 entries, tt0111161 to tt0279977\nData columns (total 6 columns):\ntitle       10000 non-null object\nyear        10000 non-null int64\nrating      10000 non-null float64\nvotes       10000 non-null int64\nduration    10000 non-null object\ngenres      9999 non-null object\ndtypes: float64(1), int64(2), object(3)\nmemory usage: 546.9+ KB\n"
     ],
     "output_type": "stream"
    }
   ],
   "source": [
    "\n",
    "df.info()"
   ],
   "metadata": {
    "collapsed": false,
    "pycharm": {
     "name": "#%%\n",
     "is_executing": false
    }
   }
  },
  {
   "cell_type": "code",
   "execution_count": 8,
   "outputs": [
    {
     "name": "stdout",
     "text": [
      "title       0\nyear        0\nrating      0\nvotes       0\nduration    0\ngenres      0\ndtype: int64\n"
     ],
     "output_type": "stream"
    }
   ],
   "source": [
    "\n",
    "print(df.isnull().sum())\n",
    "df.dropna(inplace=True)"
   ],
   "metadata": {
    "collapsed": false,
    "pycharm": {
     "name": "#%%\n",
     "is_executing": false
    }
   }
  },
  {
   "cell_type": "code",
   "execution_count": 9,
   "outputs": [],
   "source": [
    "df[\"duration\"]=df[\"duration\"].apply(lambda x: int(x.replace(\"mins.\",\"\")))\n",
    "df[\"duration\"]=df[\"duration\"]*60\n"
   ],
   "metadata": {
    "collapsed": false,
    "pycharm": {
     "name": "#%%\n",
     "is_executing": false
    }
   }
  },
  {
   "cell_type": "code",
   "execution_count": 10,
   "outputs": [],
   "source": [
    "df[\"title\"]=df[\"title\"].apply(lambda x:re.sub(r'\\([^)]*\\)', '',x))"
   ],
   "metadata": {
    "collapsed": false,
    "pycharm": {
     "name": "#%%\n",
     "is_executing": false
    }
   }
  },
  {
   "cell_type": "code",
   "execution_count": 11,
   "outputs": [
    {
     "data": {
      "text/plain": "                               title  year  rating   votes  duration  \\\nID                                                                     \ntt0111161  The Shawshank Redemption   1994     9.2  619479      8520   \ntt0110912              Pulp Fiction   1994     9.0  490065      9240   \ntt0137523                Fight Club   1999     8.8  458173      8340   \ntt0133093                The Matrix   1999     8.7  448114      8160   \ntt1375666                 Inception   2010     8.9  385149      8880   \n\n                                     genres  \nID                                           \ntt0111161                       Crime|Drama  \ntt0110912                    Crime|Thriller  \ntt0137523            Drama|Mystery|Thriller  \ntt0133093           Action|Adventure|Sci-Fi  \ntt1375666  Action|Adventure|Sci-Fi|Thriller  ",
      "text/html": "<div>\n<style scoped>\n    .dataframe tbody tr th:only-of-type {\n        vertical-align: middle;\n    }\n\n    .dataframe tbody tr th {\n        vertical-align: top;\n    }\n\n    .dataframe thead th {\n        text-align: right;\n    }\n</style>\n<table border=\"1\" class=\"dataframe\">\n  <thead>\n    <tr style=\"text-align: right;\">\n      <th></th>\n      <th>title</th>\n      <th>year</th>\n      <th>rating</th>\n      <th>votes</th>\n      <th>duration</th>\n      <th>genres</th>\n    </tr>\n    <tr>\n      <th>ID</th>\n      <th></th>\n      <th></th>\n      <th></th>\n      <th></th>\n      <th></th>\n      <th></th>\n    </tr>\n  </thead>\n  <tbody>\n    <tr>\n      <th>tt0111161</th>\n      <td>The Shawshank Redemption</td>\n      <td>1994</td>\n      <td>9.2</td>\n      <td>619479</td>\n      <td>8520</td>\n      <td>Crime|Drama</td>\n    </tr>\n    <tr>\n      <th>tt0110912</th>\n      <td>Pulp Fiction</td>\n      <td>1994</td>\n      <td>9.0</td>\n      <td>490065</td>\n      <td>9240</td>\n      <td>Crime|Thriller</td>\n    </tr>\n    <tr>\n      <th>tt0137523</th>\n      <td>Fight Club</td>\n      <td>1999</td>\n      <td>8.8</td>\n      <td>458173</td>\n      <td>8340</td>\n      <td>Drama|Mystery|Thriller</td>\n    </tr>\n    <tr>\n      <th>tt0133093</th>\n      <td>The Matrix</td>\n      <td>1999</td>\n      <td>8.7</td>\n      <td>448114</td>\n      <td>8160</td>\n      <td>Action|Adventure|Sci-Fi</td>\n    </tr>\n    <tr>\n      <th>tt1375666</th>\n      <td>Inception</td>\n      <td>2010</td>\n      <td>8.9</td>\n      <td>385149</td>\n      <td>8880</td>\n      <td>Action|Adventure|Sci-Fi|Thriller</td>\n    </tr>\n  </tbody>\n</table>\n</div>"
     },
     "metadata": {},
     "output_type": "execute_result",
     "execution_count": 11
    }
   ],
   "source": [
    "df.head()"
   ],
   "metadata": {
    "collapsed": false,
    "pycharm": {
     "name": "#%%\n",
     "is_executing": false
    }
   }
  },
  {
   "cell_type": "code",
   "execution_count": 12,
   "outputs": [],
   "source": [
    "movie_crew_df = pd.read_csv(r'C:\\Users\\minds\\Desktop\\pandas\\data\\crew_data.tsv.gz', \n",
    "                        sep=\"\\t\",names=['ID', 'director_ids'],index_col=\"ID\",usecols=[0,1],header=0)\n",
    "\n",
    "person_df=pd.read_csv(r'C:\\Users\\minds\\Desktop\\pandas\\data\\name_data.tsv.gz', \n",
    "                        sep=\"\\t\",names=['person_ID', 'name'],index_col=\"person_ID\",usecols=[0,1],header=0)\n"
   ],
   "metadata": {
    "collapsed": false,
    "pycharm": {
     "name": "#%%\n",
     "is_executing": false
    }
   }
  },
  {
   "cell_type": "code",
   "execution_count": null,
   "outputs": [],
   "source": [
    "\n"
   ],
   "metadata": {
    "collapsed": false,
    "pycharm": {
     "name": "#%%\n"
    }
   }
  }
 ],
 "metadata": {
  "language_info": {
   "codemirror_mode": {
    "name": "ipython",
    "version": 2
   },
   "file_extension": ".py",
   "mimetype": "text/x-python",
   "name": "python",
   "nbconvert_exporter": "python",
   "pygments_lexer": "ipython2",
   "version": "2.7.6"
  },
  "kernelspec": {
   "name": "python3",
   "language": "python",
   "display_name": "Python 3"
  },
  "pycharm": {
   "stem_cell": {
    "cell_type": "raw",
    "source": [],
    "metadata": {
     "collapsed": false
    }
   }
  }
 },
 "nbformat": 4,
 "nbformat_minor": 0
}